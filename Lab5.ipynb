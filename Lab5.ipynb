{
 "cells": [
  {
   "cell_type": "markdown",
   "metadata": {},
   "source": [
    "# Лабораторная работа №5\n",
    "\n",
    "### Выполнили: \n",
    "* Иванов Александр Константинович, 368220 \n",
    "* Братушка Никита Игоревич, 367924\n",
    "* Проворов Николай Дмитриевич, 368690\n"
   ]
  },
  {
   "cell_type": "markdown",
   "metadata": {},
   "source": [
    "### Импортирование необходимых библиотек"
   ]
  },
  {
   "cell_type": "code",
   "execution_count": 22,
   "metadata": {},
   "outputs": [],
   "source": [
    "import pandas as pd \n",
    "import numpy as np\n",
    "import matplotlib.pyplot as plt\n",
    "import seaborn as sns\n",
    "from seaborn import pairplot, heatmap\n",
    "from sklearn.preprocessing import StandardScaler\n",
    "from sklearn.model_selection import train_test_split, GridSearchCV\n",
    "from sklearn.ensemble import RandomForestClassifier, GradientBoostingClassifier\n",
    "from sklearn.metrics import accuracy_score, f1_score, classification_report, confusion_matrix\n",
    "from time import time"
   ]
  },
  {
   "cell_type": "markdown",
   "metadata": {},
   "source": [
    "\n",
    "Загрузим датасет для классификации и разделим его в соотношении 80/20 на обучающую и тестовую выборки соответственно:"
   ]
  },
  {
   "cell_type": "code",
   "execution_count": 23,
   "metadata": {},
   "outputs": [
    {
     "name": "stdout",
     "output_type": "stream",
     "text": [
      "        age  sex  cp  trestbps      chol  fbs  restecg   thalach  exang  \\\n",
      "0  0.952197    1   3  0.763956 -0.256334    1        0  0.015443      0   \n",
      "1 -1.915313    1   2 -0.092738  0.072199    0        1  1.633471      0   \n",
      "2 -1.474158    0   1 -0.092738 -0.816773    0        0  0.977514      0   \n",
      "3  0.180175    1   1 -0.663867 -0.198357    0        1  1.239897      0   \n",
      "4  0.290464    0   0 -0.663867  2.082050    0        1  0.583939      1   \n",
      "\n",
      "    oldpeak  slope  ca  thal  target  \n",
      "0  1.087338      0   0     1       1  \n",
      "1  2.122573      0   0     2       1  \n",
      "2  0.310912      2   0     2       1  \n",
      "3 -0.206705      2   0     2       1  \n",
      "4 -0.379244      2   0     2       1  \n"
     ]
    }
   ],
   "source": [
    "heartrates = pd.read_csv(open(\"heart_modified.csv\"))\n",
    "\n",
    "print(heartrates.head()) # Выводим считанные данные\n",
    "\n",
    "X = heartrates.drop(\"target\", axis=1)\n",
    "y = heartrates[\"target\"]\n",
    "\n",
    "X_train, X_tests, y_train, y_tests = train_test_split(X, y, test_size=0.2)"
   ]
  },
  {
   "cell_type": "markdown",
   "metadata": {},
   "source": [
    "# Бэггинг решающих деревьев (случайный лес, RandomForest)"
   ]
  },
  {
   "cell_type": "markdown",
   "metadata": {},
   "source": [
    "С помощью удобного инструмента GridSearchCV выберем лучшие параметры для модели"
   ]
  },
  {
   "cell_type": "code",
   "execution_count": 32,
   "metadata": {},
   "outputs": [],
   "source": [
    "classifier_rf = RandomForestClassifier(random_state=10)\n",
    "\n",
    "param_rf = {\n",
    "    \"n_estimators\": [20, 50, 100, 200],\n",
    "    \"max_depth\" : [None, 5, 10, 20],\n",
    "    \"min_samples_split\" : [2, 5, 10, 20]\n",
    "}\n",
    "\n",
    "grid_search_rf = GridSearchCV(estimator=classifier_rf, param_grid=param_rf, scoring=\"accuracy\")\n",
    "\n",
    "# Обучение \n",
    "time_fit_rf = time()\n",
    "grid_search_rf.fit(X_train, y_train)\n",
    "time_fit_rf = time() - time_fit_rf\n",
    "\n",
    "# Предсказания модели на основе лучших параметров из grid_search_rf.best_estimator_ (уже обучена)\n",
    "y_predict_rf = grid_search_rf.best_estimator_.predict(X_tests) "
   ]
  },
  {
   "cell_type": "code",
   "execution_count": 25,
   "metadata": {},
   "outputs": [
    {
     "name": "stdout",
     "output_type": "stream",
     "text": [
      "Лучшие параметры:\n",
      "\n",
      "Количество деревьев(n_estimators):  100\n",
      "Максимальная глубина деревьев (max_depth):  None\n",
      "Количество образцов в узле (min_samples_split):  20 \n",
      "\n",
      "Отчет о классификации:\n",
      "               precision    recall  f1-score   support\n",
      "\n",
      "           0       0.81      0.84      0.82        25\n",
      "           1       0.89      0.86      0.87        36\n",
      "\n",
      "    accuracy                           0.85        61\n",
      "   macro avg       0.85      0.85      0.85        61\n",
      "weighted avg       0.85      0.85      0.85        61\n",
      "\n",
      "Точность(accuracy):  0.8524590163934426\n",
      "F1 (f1_score):  0.8732394366197183\n"
     ]
    }
   ],
   "source": [
    "# Параметры\n",
    "print(\"Лучшие параметры:\\n\")\n",
    "print(\"Количество деревьев(n_estimators): \", grid_search_rf.best_params_.get(\"n_estimators\"))\n",
    "print(\"Максимальная глубина деревьев (max_depth): \", grid_search_rf.best_params_.get(\"max_depth\"))\n",
    "print(\"Количество образцов в узле (min_samples_split): \", grid_search_rf.best_params_.get(\"min_samples_split\"), \"\\n\")\n",
    "\n",
    "# Оценка (https://scikit-learn.org/1.5/modules/generated/sklearn.metrics.classification_report.html)\n",
    "print(\"Отчет о классификации:\\n\", classification_report(y_true=y_tests, y_pred=y_predict_rf))\n",
    "print(\"Точность(accuracy): \", accuracy_score(y_true=y_tests, y_pred=y_predict_rf))\n",
    "print(\"F1 (f1_score): \", f1_score(y_true=y_tests, y_pred=y_predict_rf))\n",
    "\n",
    "precision_rf = classification_report(y_true=y_tests, y_pred=y_predict_rf, output_dict=True)[\"weighted avg\"][\"precision\"]"
   ]
  },
  {
   "cell_type": "markdown",
   "metadata": {},
   "source": [
    "# Градиентный бустинг над решающими деревьями (GradientBoostingRegressor)"
   ]
  },
  {
   "cell_type": "code",
   "execution_count": 35,
   "metadata": {},
   "outputs": [],
   "source": [
    "classifier_gb = GradientBoostingClassifier(random_state=10)\n",
    "\n",
    "param_gb = {\n",
    "    \"n_estimators\": [20, 50, 100, 200],\n",
    "    \"learning_rate\": [0.01, 0.1, 0.2],\n",
    "    \"max_depth\" : [None, 5, 10, 20],\n",
    "    \"min_samples_split\" : [2, 5, 10, 20]\n",
    "}\n",
    "\n",
    "grid_search_gb = GridSearchCV(estimator=classifier_gb, param_grid=param_gb, scoring=\"accuracy\")\n",
    "\n",
    "# Обучение \n",
    "time_fit_gb = time()\n",
    "grid_search_gb.fit(X_train, y_train)\n",
    "time_fit_gb = time() - time_fit_gb \n",
    "\n",
    "# Предсказания модели на основе лучших параметров из grid_search_gb.best_estimator_ (уже обучена)\n",
    "y_predict_gb = grid_search_gb.best_estimator_.predict(X_tests) "
   ]
  },
  {
   "cell_type": "code",
   "execution_count": null,
   "metadata": {},
   "outputs": [
    {
     "name": "stdout",
     "output_type": "stream",
     "text": [
      "Лучшие параметры:\n",
      "\n",
      "Количество деревьев(n_estimators):  20\n",
      "Скорость обучения (learning_rate):  0.2\n",
      "Максимальная глубина деревьев (max_depth):  5\n",
      "Количество образцов в узле (min_samples_split):  20 \n",
      "\n",
      "Отчет о классификации:\n",
      "               precision    recall  f1-score   support\n",
      "\n",
      "           0       0.70      0.84      0.76        25\n",
      "           1       0.87      0.75      0.81        36\n",
      "\n",
      "    accuracy                           0.79        61\n",
      "   macro avg       0.79      0.79      0.78        61\n",
      "weighted avg       0.80      0.79      0.79        61\n",
      "\n",
      "Точность(accuracy):  0.7868852459016393\n",
      "F1 (f1_score):  0.8059701492537313\n"
     ]
    }
   ],
   "source": [
    "# Параметры\n",
    "print(\"Лучшие параметры:\\n\")\n",
    "print(\"Количество деревьев(n_estimators): \", grid_search_gb.best_params_.get(\"n_estimators\"))\n",
    "print(\"Скорость обучения (learning_rate): \", grid_search_gb.best_params_.get(\"learning_rate\"))\n",
    "print(\"Максимальная глубина деревьев (max_depth): \", grid_search_gb.best_params_.get(\"max_depth\"))\n",
    "print(\"Количество образцов в узле (min_samples_split): \", grid_search_gb.best_params_.get(\"min_samples_split\"), \"\\n\")\n",
    "\n",
    "# Оценка (https://scikit-learn.org/1.5/modules/generated/sklearn.metrics.classification_report.html)\n",
    "print(\"Отчет о классификации:\\n\", classification_report(y_true=y_tests, y_pred=y_predict_gb))\n",
    "print(\"Точность(accuracy): \", accuracy_score(y_true=y_tests, y_pred=y_predict_gb))\n",
    "print(\"F1 (f1_score): \", f1_score(y_true=y_tests, y_pred=y_predict_gb))\n",
    "\n",
    "precision_gb = classification_report(y_true=y_tests, y_pred=y_predict_gb, output_dict=True)[\"weighted avg\"][\"precision\"]"
   ]
  },
  {
   "cell_type": "markdown",
   "metadata": {},
   "source": [
    "# Сравнительная оценка\n",
    "\n",
    "### Критерии оценивания\n",
    "\n",
    "* Время обучения\n",
    "\n",
    "* Точность, F1-мера и полнота\n",
    "\n",
    "* Матрица ошибок"
   ]
  },
  {
   "cell_type": "code",
   "execution_count": 41,
   "metadata": {},
   "outputs": [
    {
     "name": "stdout",
     "output_type": "stream",
     "text": [
      "Время обучения RandomForest 15.18103 cекунд\n",
      "Время обучения GradientBoosting 86.35924 cекунд \n",
      "\n",
      "Точность RandomForest: 0.85246\n",
      "F1 RandomForest: 0.87324\n",
      "Полнота RandomForest: 0.85374\n",
      "\n",
      "Точность GradientBoosting: 0.78689\n",
      "F1 GradientBoosting: 0.80597\n",
      "Полнота GradientBoosting: 0.80090\n",
      "\n"
     ]
    },
    {
     "data": {
      "image/png": "[encoded data removed]",
      "text/plain": [
       "<Figure size 1000x500 with 4 Axes>"
      ]
     },
     "metadata": {},
     "output_type": "display_data"
    }
   ],
   "source": [
    "# Время обучения\n",
    "print(\"Время обучения RandomForest {:.5f} cекунд\".format(time_fit_rf))\n",
    "print(\"Время обучения GradientBoosting {:.5f} cекунд \\n\".format(time_fit_gb))\n",
    "\n",
    "# Точность, F1-мера и полнота\n",
    "print(\"Точность RandomForest: {:.5f}\".format(accuracy_score(y_true=y_tests, y_pred=y_predict_rf)))\n",
    "print(\"F1 RandomForest: {:.5f}\".format(f1_score(y_true=y_tests, y_pred=y_predict_rf)))\n",
    "print(\"Полнота RandomForest: {:.5f}\\n\".format(precision_rf))\n",
    "\n",
    "print(\"Точность GradientBoosting: {:.5f}\".format(accuracy_score(y_true=y_tests, y_pred=y_predict_gb)))\n",
    "print(\"F1 GradientBoosting: {:.5f}\".format(f1_score(y_true=y_tests, y_pred=y_predict_gb)))\n",
    "print(\"Полнота GradientBoosting: {:.5f}\\n\".format(precision_gb))\n",
    "\n",
    "# Матрица ошибок\n",
    "plt.figure(figsize=(10, 5))\n",
    "\n",
    "plt.subplot(1, 2, 1)\n",
    "sns.heatmap(confusion_matrix(y_true=y_tests, y_pred=y_predict_rf), annot=True, fmt=\"d\", cmap=\"Blues\")\n",
    "plt.title(\"RandomForest\")\n",
    "plt.xlabel(\"Предсказанные значения\")\n",
    "plt.ylabel(\"Реальные значения\")\n",
    "\n",
    "plt.subplot(1, 2, 2)\n",
    "sns.heatmap(confusion_matrix(y_true=y_tests, y_pred=y_predict_gb), annot=True, fmt=\"d\", cmap=\"Blues\")\n",
    "plt.title(\"GradientBoosting\")\n",
    "plt.xlabel(\"Предсказанные значения\")\n",
    "plt.ylabel(\"Реальные значения\")\n",
    "\n",
    "plt.show()\n"
   ]
  }
 ],
 "metadata": {
  "kernelspec": {
   "display_name": ".venv",
   "language": "python",
   "name": "python3"
  },
  "language_info": {
   "codemirror_mode": {
    "name": "ipython",
    "version": 3
   },
   "file_extension": ".py",
   "mimetype": "text/x-python",
   "name": "python",
   "nbconvert_exporter": "python",
   "pygments_lexer": "ipython3",
   "version": "3.9.6"
  }
 },
 "nbformat": 4,
 "nbformat_minor": 2
}
