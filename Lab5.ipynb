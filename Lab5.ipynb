{
 "cells": [
  {
   "cell_type": "markdown",
   "metadata": {},
   "source": [
    "# Лабораторная работа №5\n",
    "\n",
    "### Выполнили: \n",
    "* Иванов Александр Константинович, 368220 \n",
    "* Братушка Никита Игоревич, 367924\n",
    "* Проворов Николай Дмитриевич, 368690\n"
   ]
  },
  {
   "cell_type": "markdown",
   "metadata": {},
   "source": [
    "# Импортирование необходимых библиотек"
   ]
  },
  {
   "cell_type": "code",
<<<<<<< HEAD
   "execution_count": 21,
=======
   "execution_count": 28,
>>>>>>> 4d014d03c7eb0ce918727370d3735fea29df4e07
   "metadata": {},
   "outputs": [],
   "source": [
    "import pandas as pd \n",
    "import numpy as np\n",
    "import matplotlib.pyplot as plt\n",
    "import seaborn as sns\n",
    "from seaborn import pairplot, heatmap\n",
    "from sklearn.preprocessing import StandardScaler\n",
    "from sklearn.model_selection import train_test_split, GridSearchCV\n",
<<<<<<< HEAD
    "from sklearn.ensemble import RandomForestClassifier, GradientBoostingClassifier\n",
    "from sklearn.metrics import accuracy_score, f1_score, classification_report, confusion_matrix\n",
    "from time import time"
=======
    "from sklearn.ensemble import RandomForestClassifier, GradientBoostingClassifier, GradientBoostingRegressor\n",
    "from sklearn.metrics import accuracy_score, f1_score, classification_report"
>>>>>>> 4d014d03c7eb0ce918727370d3735fea29df4e07
   ]
  },
  {
   "cell_type": "markdown",
   "metadata": {},
   "source": [
<<<<<<< HEAD
    "# Загрузим датасет для классификации и разделим его в соотношении 80/20 на обучающую и тестовую выборки соответственно:"
=======
    "## Загрузим датасет для классификации и разделим его в соотношении 80/20 на обучающую и тестовую выборки соответственно:"
>>>>>>> 4d014d03c7eb0ce918727370d3735fea29df4e07
   ]
  },
  {
   "cell_type": "code",
<<<<<<< HEAD
   "execution_count": 9,
=======
   "execution_count": 16,
>>>>>>> 4d014d03c7eb0ce918727370d3735fea29df4e07
   "metadata": {},
   "outputs": [
    {
     "name": "stdout",
     "output_type": "stream",
     "text": [
<<<<<<< HEAD
      "        age  sex  cp  trestbps      chol  fbs  restecg   thalach  exang  \\\n",
      "0  0.952197    1   3  0.763956 -0.256334    1        0  0.015443      0   \n",
      "1 -1.915313    1   2 -0.092738  0.072199    0        1  1.633471      0   \n",
      "2 -1.474158    0   1 -0.092738 -0.816773    0        0  0.977514      0   \n",
      "3  0.180175    1   1 -0.663867 -0.198357    0        1  1.239897      0   \n",
      "4  0.290464    0   0 -0.663867  2.082050    0        1  0.583939      1   \n",
      "\n",
      "    oldpeak  slope  ca  thal  target  \n",
      "0  1.087338      0   0     1       1  \n",
      "1  2.122573      0   0     2       1  \n",
      "2  0.310912      2   0     2       1  \n",
      "3 -0.206705      2   0     2       1  \n",
      "4 -0.379244      2   0     2       1  \n"
=======
      "   age  sex  cp  trestbps  chol  fbs  restecg  thalach  exang  oldpeak  slope  ca  thal  target\n",
      "0   63    1   3       145   233    1        0      150      0      2.3      0   0     1       1\n",
      "1   37    1   2       130   250    0        1      187      0      3.5      0   0     2       1\n",
      "2   41    0   1       130   204    0        0      172      0      1.4      2   0     2       1\n",
      "3   56    1   1       120   236    0        1      178      0      0.8      2   0     2       1\n",
      "4   57    0   0       120   354    0        1      163      1      0.6      2   0     2       1\n"
>>>>>>> 4d014d03c7eb0ce918727370d3735fea29df4e07
     ]
    }
   ],
   "source": [
<<<<<<< HEAD
    "train = pd.read_csv(open(\"heart_modified.csv\"))\n",
=======
    "train = pd.read_csv(open(\"heart.csv\"))\n",
>>>>>>> 4d014d03c7eb0ce918727370d3735fea29df4e07
    "\n",
    "print(train.head()) # Выводим считанные данные\n",
    "\n",
    "X = train.drop(\"target\", axis=1)\n",
    "y = train[\"target\"]\n",
    "\n",
    "X_train, X_tests, y_train, y_tests = train_test_split(X, y, test_size = 0.2)\n",
    "scaler = StandardScaler()\n",
    "X_train = scaler.fit_transform(X_train) # Обучающая выборка\n",
    "X_tests = scaler.fit_transform(X_tests) # Тестовая выборка"
   ]
  },
  {
   "cell_type": "markdown",
   "metadata": {},
   "source": [
<<<<<<< HEAD
    "# Бэггинг решающих деревьев(случайный лес, RandomForest)"
=======
    "## Бэггинг решающих деревьев(случайный лес, RandomForest)"
>>>>>>> 4d014d03c7eb0ce918727370d3735fea29df4e07
   ]
  },
  {
   "cell_type": "markdown",
   "metadata": {},
   "source": [
    "С помощью удобного инструмента GridSearchCV выберем лучшие параметры для модели"
   ]
  },
  {
   "cell_type": "code",
<<<<<<< HEAD
   "execution_count": 10,
   "metadata": {},
   "outputs": [],
   "source": [
    "classifier_rf = RandomForestClassifier(random_state=10)\n",
=======
   "execution_count": 27,
   "metadata": {},
   "outputs": [],
   "source": [
>>>>>>> 4d014d03c7eb0ce918727370d3735fea29df4e07
    "param_rf = {\n",
    "    \"n_estimators\": [20, 50, 100, 200],\n",
    "    \"max_depth\" : [None, 5, 10, 20],\n",
    "    \"min_samples_split\" : [2, 5, 10, 20]\n",
    "}\n",
    "\n",
<<<<<<< HEAD
    "grid_search_rf = GridSearchCV(estimator=classifier_rf, param_grid=param_rf, scoring=\"accuracy\", cv=5)\n",
    "\n",
    "# Обучение и вычисление времени\n",
    "time_fit_rf = time()\n",
    "grid_search_rf.fit(X_train, y_train)\n",
    "time_fit_rf = time() - time_fit_rf\n",
=======
    "classifier_rf = RandomForestClassifier(random_state=10)\n",
    "grid_search_rf = GridSearchCV(estimator=classifier_rf, param_grid=param_rf, scoring=\"accuracy\", cv=5)\n",
    "\n",
    "# Обучение\n",
    "grid_search_rf.fit(X_train, y_train)\n",
>>>>>>> 4d014d03c7eb0ce918727370d3735fea29df4e07
    "\n",
    "# Предсказания модели на основе лучших параметров из grid_search_rf.best_estimator_ (уже обучена)\n",
    "y_predict_rf = grid_search_rf.best_estimator_.predict(X_tests) \n"
   ]
  },
  {
   "cell_type": "code",
<<<<<<< HEAD
   "execution_count": 12,
=======
   "execution_count": 30,
>>>>>>> 4d014d03c7eb0ce918727370d3735fea29df4e07
   "metadata": {},
   "outputs": [
    {
     "name": "stdout",
     "output_type": "stream",
     "text": [
<<<<<<< HEAD
      "Лучшие параметры:\n",
      "\n",
      "Количество деревьев(n_estimators):  50\n",
=======
      "Лучшие параметры: \n",
      "Количество деревьев(n_estimators):  200\n",
>>>>>>> 4d014d03c7eb0ce918727370d3735fea29df4e07
      "Максимальная глубина деревьев (max_depth):  5\n",
      "Количество образцов в узле (min_samples_split):  10 \n",
      "\n",
      "Отчет о классификации:\n",
      "               precision    recall  f1-score   support\n",
      "\n",
<<<<<<< HEAD
      "           0       0.86      0.89      0.88        28\n",
      "           1       0.91      0.88      0.89        33\n",
      "\n",
      "    accuracy                           0.89        61\n",
      "   macro avg       0.88      0.89      0.88        61\n",
      "weighted avg       0.89      0.89      0.89        61\n",
      "\n",
      "Точность(accuracy):  0.8852459016393442\n",
      "F1 (f1_score):  0.8923076923076924\n"
=======
      "           0       0.96      0.72      0.82        32\n",
      "           1       0.76      0.97      0.85        29\n",
      "\n",
      "    accuracy                           0.84        61\n",
      "   macro avg       0.86      0.84      0.83        61\n",
      "weighted avg       0.86      0.84      0.83        61\n",
      "\n",
      "Точность(accuracy):  0.8360655737704918\n",
      "F1 (f1_score):  0.8484848484848485\n"
>>>>>>> 4d014d03c7eb0ce918727370d3735fea29df4e07
     ]
    }
   ],
   "source": [
    "# Параметры\n",
<<<<<<< HEAD
    "print(\"Лучшие параметры:\\n\")\n",
=======
    "print(\"Лучшие параметры: \")\n",
>>>>>>> 4d014d03c7eb0ce918727370d3735fea29df4e07
    "print(\"Количество деревьев(n_estimators): \", grid_search_rf.best_params_.get(\"n_estimators\"))\n",
    "print(\"Максимальная глубина деревьев (max_depth): \", grid_search_rf.best_params_.get(\"max_depth\"))\n",
    "print(\"Количество образцов в узле (min_samples_split): \", grid_search_rf.best_params_.get(\"min_samples_split\"), \"\\n\")\n",
    "\n",
    "# Оценка\n",
    "print(\"Отчет о классификации:\\n\", classification_report(y_true=y_tests, y_pred=y_predict_rf))\n",
    "print(\"Точность(accuracy): \", accuracy_score(y_true=y_tests, y_pred=y_predict_rf))\n",
<<<<<<< HEAD
    "print(\"F1 (f1_score): \", f1_score(y_true=y_tests, y_pred=y_predict_rf))\n",
    "\n",
    "precision_rf = classification_report(y_true=y_tests, y_pred=y_predict_rf, output_dict=True)[\"weighted avg\"][\"precision\"]"
   ]
  },
  {
   "cell_type": "markdown",
   "metadata": {},
   "source": [
    "# Градиентный бустинг над решающими деревьями (GradientBoostingRegressor)"
   ]
  },
  {
   "cell_type": "code",
   "execution_count": 13,
   "metadata": {},
   "outputs": [],
   "source": [
    "classifier_gb = GradientBoostingClassifier(random_state=10)\n",
    "param_gb = {\n",
    "    \"n_estimators\": [20, 50, 100, 200],\n",
    "    \"max_depth\" : [None, 5, 10, 20],\n",
    "    \"min_samples_split\" : [2, 5, 10, 20]\n",
    "}\n",
    "\n",
    "grid_search_gb = GridSearchCV(estimator=classifier_gb, param_grid=param_gb, scoring=\"accuracy\", cv=5)\n",
    "\n",
    "# Обучение и вычисление времени\n",
    "time_fit_gb = time()\n",
    "grid_search_gb.fit(X_train, y_train)\n",
    "time_fit_gb = time() - time_fit_gb\n",
    "\n",
    "# Предсказания модели на основе лучших параметров из grid_search_gb.best_estimator_ (уже обучена)\n",
    "y_predict_gb = grid_search_gb.best_estimator_.predict(X_tests) "
   ]
  },
  {
   "cell_type": "code",
   "execution_count": 14,
   "metadata": {},
   "outputs": [
    {
     "name": "stdout",
     "output_type": "stream",
     "text": [
      "Лучшие параметры:\n",
      "\n",
      "Количество деревьев(n_estimators):  100\n",
      "Максимальная глубина деревьев (max_depth):  5\n",
      "Количество образцов в узле (min_samples_split):  20 \n",
      "\n",
      "Отчет о классификации:\n",
      "               precision    recall  f1-score   support\n",
      "\n",
      "           0       0.85      0.79      0.81        28\n",
      "           1       0.83      0.88      0.85        33\n",
      "\n",
      "    accuracy                           0.84        61\n",
      "   macro avg       0.84      0.83      0.83        61\n",
      "weighted avg       0.84      0.84      0.84        61\n",
      "\n",
      "Точность(accuracy):  0.8360655737704918\n",
      "F1 (f1_score):  0.8529411764705882\n"
     ]
    }
   ],
   "source": [
    "# Параметры\n",
    "print(\"Лучшие параметры:\\n\")\n",
    "print(\"Количество деревьев(n_estimators): \", grid_search_gb.best_params_.get(\"n_estimators\"))\n",
    "print(\"Максимальная глубина деревьев (max_depth): \", grid_search_gb.best_params_.get(\"max_depth\"))\n",
    "print(\"Количество образцов в узле (min_samples_split): \", grid_search_gb.best_params_.get(\"min_samples_split\"), \"\\n\")\n",
    "\n",
    "# Оценка\n",
    "print(\"Отчет о классификации:\\n\", classification_report(y_true=y_tests, y_pred=y_predict_gb))\n",
    "print(\"Точность(accuracy): \", accuracy_score(y_true=y_tests, y_pred=y_predict_gb))\n",
    "print(\"F1 (f1_score): \", f1_score(y_true=y_tests, y_pred=y_predict_gb))\n",
    "\n",
    "precision_gb = classification_report(y_true=y_tests, y_pred=y_predict_gb, output_dict=True)[\"weighted avg\"][\"precision\"]"
   ]
  },
  {
   "cell_type": "markdown",
   "metadata": {},
   "source": [
    "# Сравнительная оценка\n",
    "\n",
    "### Критерии оценивания\n",
    "\n",
    "* Время обучения\n",
    "\n",
    "* Точность, F1-мера и полнота\n",
    "\n",
    "* Матрица ошибок"
   ]
  },
  {
   "cell_type": "code",
   "execution_count": 26,
   "metadata": {},
   "outputs": [
    {
     "name": "stdout",
     "output_type": "stream",
     "text": [
      "Время обучения RandomForest 14.98212 cекунд\n",
      "Время обучения GradientBoosting 26.33794 cекунд \n",
      "\n",
      "Точность RandomForest: 0.88525\n",
      "F1 RandomForest: 0.89231\n",
      "Полнота RandomForest: 0.88597\n",
      "\n",
      "Точность GradientBoosting: 0.83607\n",
      "F1 GradientBoosting: 0.85294\n",
      "Полнота GradientBoosting: 0.83664\n",
      "\n"
     ]
    },
    {
     "data": {
      "image/png": "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",
      "text/plain": [
       "<Figure size 1000x500 with 4 Axes>"
      ]
     },
     "metadata": {},
     "output_type": "display_data"
    }
   ],
   "source": [
    "# Время обучения\n",
    "print(\"Время обучения RandomForest {:.5f} cекунд\".format(time_fit_rf))\n",
    "print(\"Время обучения GradientBoosting {:.5f} cекунд \\n\".format(time_fit_gb))\n",
    "\n",
    "# Точность, F1-мера и полнота\n",
    "print(\"Точность RandomForest: {:.5f}\".format(accuracy_score(y_true=y_tests, y_pred=y_predict_rf)))\n",
    "print(\"F1 RandomForest: {:.5f}\".format(f1_score(y_true=y_tests, y_pred=y_predict_rf)))\n",
    "print(\"Полнота RandomForest: {:.5f}\\n\".format(precision_rf))\n",
    "\n",
    "print(\"Точность GradientBoosting: {:.5f}\".format(accuracy_score(y_true=y_tests, y_pred=y_predict_gb)))\n",
    "print(\"F1 GradientBoosting: {:.5f}\".format(f1_score(y_true=y_tests, y_pred=y_predict_gb)))\n",
    "print(\"Полнота GradientBoosting: {:.5f}\\n\".format(precision_gb))\n",
    "\n",
    "# Матрица ошибок\n",
    "plt.figure(figsize=(10, 5))\n",
    "\n",
    "plt.subplot(1, 2, 1)\n",
    "sns.heatmap(confusion_matrix(y_true=y_tests, y_pred=y_predict_rf), annot=True, fmt=\"d\", cmap=\"Blues\")\n",
    "plt.title(\"RandomForest\")\n",
    "plt.xlabel(\"Предсказанные значения\")\n",
    "plt.ylabel(\"Реальные значения\")\n",
    "\n",
    "plt.subplot(1, 2, 2)\n",
    "sns.heatmap(confusion_matrix(y_true=y_tests, y_pred=y_predict_gb), annot=True, fmt=\"d\", cmap=\"Blues\")\n",
    "plt.title(\"GradientBoosting\")\n",
    "plt.xlabel(\"Предсказанные значения\")\n",
    "plt.ylabel(\"Реальные значения\")\n",
    "\n",
    "plt.show()\n"
=======
    "print(\"F1 (f1_score): \", f1_score(y_true=y_tests, y_pred=y_predict_rf))"
>>>>>>> 4d014d03c7eb0ce918727370d3735fea29df4e07
   ]
  }
 ],
 "metadata": {
  "kernelspec": {
   "display_name": ".venv",
   "language": "python",
   "name": "python3"
  },
  "language_info": {
   "codemirror_mode": {
    "name": "ipython",
    "version": 3
   },
   "file_extension": ".py",
   "mimetype": "text/x-python",
   "name": "python",
   "nbconvert_exporter": "python",
   "pygments_lexer": "ipython3",
   "version": "3.9.6"
  }
 },
 "nbformat": 4,
 "nbformat_minor": 2
}
