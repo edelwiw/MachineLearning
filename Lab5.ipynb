{
 "cells": [
  {
   "cell_type": "markdown",
   "metadata": {},
   "source": [
    "# Лабораторная работа №5\n",
    "\n",
    "### Выполнили: \n",
    "* Иванов Александр Константинович, 368220 \n",
    "* Братушка Никита Игоревич, 367924\n",
    "* Проворов Николай Дмитриевич, 368690\n"
   ]
  },
  {
   "cell_type": "markdown",
   "metadata": {},
   "source": [
    "# Импортирование необходимых библиотек"
   ]
  },
  {
   "cell_type": "code",
   "execution_count": 28,
   "metadata": {},
   "outputs": [],
   "source": [
    "import pandas as pd \n",
    "import numpy as np\n",
    "import matplotlib.pyplot as plt\n",
    "import seaborn as sns\n",
    "from seaborn import pairplot, heatmap\n",
    "from sklearn.preprocessing import StandardScaler\n",
    "from sklearn.model_selection import train_test_split, GridSearchCV\n",
    "from sklearn.ensemble import RandomForestClassifier, GradientBoostingClassifier, GradientBoostingRegressor\n",
    "from sklearn.metrics import accuracy_score, f1_score, classification_report"
   ]
  },
  {
   "cell_type": "markdown",
   "metadata": {},
   "source": [
    "## Загрузим датасет для классификации и разделим его в соотношении 80/20 на обучающую и тестовую выборки соответственно:"
   ]
  },
  {
   "cell_type": "code",
   "execution_count": 16,
   "metadata": {},
   "outputs": [
    {
     "name": "stdout",
     "output_type": "stream",
     "text": [
      "   age  sex  cp  trestbps  chol  fbs  restecg  thalach  exang  oldpeak  slope  ca  thal  target\n",
      "0   63    1   3       145   233    1        0      150      0      2.3      0   0     1       1\n",
      "1   37    1   2       130   250    0        1      187      0      3.5      0   0     2       1\n",
      "2   41    0   1       130   204    0        0      172      0      1.4      2   0     2       1\n",
      "3   56    1   1       120   236    0        1      178      0      0.8      2   0     2       1\n",
      "4   57    0   0       120   354    0        1      163      1      0.6      2   0     2       1\n"
     ]
    }
   ],
   "source": [
    "train = pd.read_csv(open(\"heart.csv\"))\n",
    "\n",
    "print(train.head()) # Выводим считанные данные\n",
    "\n",
    "X = train.drop(\"target\", axis=1)\n",
    "y = train[\"target\"]\n",
    "\n",
    "X_train, X_tests, y_train, y_tests = train_test_split(X, y, test_size = 0.2)\n",
    "scaler = StandardScaler()\n",
    "X_train = scaler.fit_transform(X_train) # Обучающая выборка\n",
    "X_tests = scaler.fit_transform(X_tests) # Тестовая выборка"
   ]
  },
  {
   "cell_type": "markdown",
   "metadata": {},
   "source": [
    "## Бэггинг решающих деревьев(случайный лес, RandomForest)"
   ]
  },
  {
   "cell_type": "markdown",
   "metadata": {},
   "source": [
    "С помощью удобного инструмента GridSearchCV выберем лучшие параметры для модели"
   ]
  },
  {
   "cell_type": "code",
   "execution_count": 31,
   "metadata": {},
   "outputs": [],
   "source": [
    "classifier_rf = RandomForestClassifier(random_state=10)\n",
    "param_rf = {\n",
    "    \"n_estimators\": [20, 50, 100, 200],\n",
    "    \"max_depth\" : [None, 5, 10, 20],\n",
    "    \"min_samples_split\" : [2, 5, 10, 20]\n",
    "}\n",
    "\n",
    "grid_search_rf = GridSearchCV(estimator=classifier_rf, param_grid=param_rf, scoring=\"accuracy\", cv=5)\n",
    "\n",
    "# Обучение\n",
    "grid_search_rf.fit(X_train, y_train)\n",
    "\n",
    "# Предсказания модели на основе лучших параметров из grid_search_rf.best_estimator_ (уже обучена)\n",
    "y_predict_rf = grid_search_rf.best_estimator_.predict(X_tests) \n"
   ]
  },
  {
   "cell_type": "code",
   "execution_count": 32,
   "metadata": {},
   "outputs": [
    {
     "name": "stdout",
     "output_type": "stream",
     "text": [
      "Лучшие параметры: \n",
      "Количество деревьев(n_estimators):  200\n",
      "Максимальная глубина деревьев (max_depth):  5\n",
      "Количество образцов в узле (min_samples_split):  10 \n",
      "\n",
      "Отчет о классификации:\n",
      "               precision    recall  f1-score   support\n",
      "\n",
      "           0       0.96      0.72      0.82        32\n",
      "           1       0.76      0.97      0.85        29\n",
      "\n",
      "    accuracy                           0.84        61\n",
      "   macro avg       0.86      0.84      0.83        61\n",
      "weighted avg       0.86      0.84      0.83        61\n",
      "\n",
      "Точность(accuracy):  0.8360655737704918\n",
      "F1 (f1_score):  0.8484848484848485\n"
     ]
    }
   ],
   "source": [
    "# Параметры\n",
    "print(\"Лучшие параметры: \")\n",
    "print(\"Количество деревьев(n_estimators): \", grid_search_rf.best_params_.get(\"n_estimators\"))\n",
    "print(\"Максимальная глубина деревьев (max_depth): \", grid_search_rf.best_params_.get(\"max_depth\"))\n",
    "print(\"Количество образцов в узле (min_samples_split): \", grid_search_rf.best_params_.get(\"min_samples_split\"), \"\\n\")\n",
    "\n",
    "# Оценка\n",
    "print(\"Отчет о классификации:\\n\", classification_report(y_true=y_tests, y_pred=y_predict_rf))\n",
    "print(\"Точность(accuracy): \", accuracy_score(y_true=y_tests, y_pred=y_predict_rf))\n",
    "print(\"F1 (f1_score): \", f1_score(y_true=y_tests, y_pred=y_predict_rf))"
   ]
  },
  {
   "cell_type": "markdown",
   "metadata": {},
   "source": [
    "## Градиентный бустинг над решающими деревьями (GradientBoostingRegressor)"
   ]
  },
  {
   "cell_type": "code",
   "execution_count": 35,
   "metadata": {},
   "outputs": [],
   "source": [
    "classifier_gb = GradientBoostingClassifier(random_state=10)\n",
    "param_gb = {\n",
    "    \"n_estimators\": [20, 50, 100, 200],\n",
    "    \"max_depth\" : [None, 5, 10, 20],\n",
    "    \"min_samples_split\" : [2, 5, 10, 20]\n",
    "}\n",
    "\n",
    "grid_search_gb = GridSearchCV(estimator=classifier_gb, param_grid=param_gb, scoring=\"accuracy\", cv=5)\n",
    "\n",
    "# Обучение\n",
    "grid_search_gb.fit(X_train, y_train)\n",
    "\n",
    "# Предсказания модели на основе лучших параметров из grid_search_gb.best_estimator_ (уже обучена)\n",
    "y_predict_gb = grid_search_gb.best_estimator_.predict(X_tests) \n"
   ]
  },
  {
   "cell_type": "code",
   "execution_count": 36,
   "metadata": {},
   "outputs": [
    {
     "name": "stdout",
     "output_type": "stream",
     "text": [
      "Лучшие параметры: \n",
      "Количество деревьев(n_estimators):  50\n",
      "Максимальная глубина деревьев (max_depth):  5\n",
      "Количество образцов в узле (min_samples_split):  20 \n",
      "\n",
      "Отчет о классификации:\n",
      "               precision    recall  f1-score   support\n",
      "\n",
      "           0       0.95      0.59      0.73        32\n",
      "           1       0.68      0.97      0.80        29\n",
      "\n",
      "    accuracy                           0.77        61\n",
      "   macro avg       0.82      0.78      0.77        61\n",
      "weighted avg       0.82      0.77      0.76        61\n",
      "\n",
      "Точность(accuracy):  0.7704918032786885\n",
      "F1 (f1_score):  0.8\n"
     ]
    }
   ],
   "source": [
    "# Параметры\n",
    "print(\"Лучшие параметры: \")\n",
    "print(\"Количество деревьев(n_estimators): \", grid_search_gb.best_params_.get(\"n_estimators\"))\n",
    "print(\"Максимальная глубина деревьев (max_depth): \", grid_search_gb.best_params_.get(\"max_depth\"))\n",
    "print(\"Количество образцов в узле (min_samples_split): \", grid_search_gb.best_params_.get(\"min_samples_split\"), \"\\n\")\n",
    "\n",
    "# Оценка\n",
    "print(\"Отчет о классификации:\\n\", classification_report(y_true=y_tests, y_pred=y_predict_gb))\n",
    "print(\"Точность(accuracy): \", accuracy_score(y_true=y_tests, y_pred=y_predict_gb))\n",
    "print(\"F1 (f1_score): \", f1_score(y_true=y_tests, y_pred=y_predict_gb))"
   ]
  }
 ],
 "metadata": {
  "kernelspec": {
   "display_name": ".venv",
   "language": "python",
   "name": "python3"
  },
  "language_info": {
   "codemirror_mode": {
    "name": "ipython",
    "version": 3
   },
   "file_extension": ".py",
   "mimetype": "text/x-python",
   "name": "python",
   "nbconvert_exporter": "python",
   "pygments_lexer": "ipython3",
   "version": "3.9.6"
  }
 },
 "nbformat": 4,
 "nbformat_minor": 2
}
