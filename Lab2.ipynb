{
 "cells": [
  {
   "cell_type": "markdown",
   "metadata": {},
   "source": [
    "# Лабораторная работа №2\n",
    "\n",
    "### Выполнили: \n",
    "* Иванов Александр Константинович, 368220 \n",
    "* Братушка Никита Игоревич, 367924\n",
    "* Проворов Николай Дмитриевич, 368690\n",
    "\n",
    "# Импорт библиотек"
   ]
  },
  {
   "cell_type": "code",
   "execution_count": 26,
   "metadata": {},
   "outputs": [],
   "source": [
    "import pandas as pd \n",
    "import numpy as np\n",
    "import matplotlib.pyplot as plt\n",
    "import seaborn as sns\n",
    "from sklearn.model_selection import train_test_split, GridSearchCV\n",
    "from sklearn.linear_model import SGDClassifier, SGDRegressor\n",
    "from sklearn.metrics import classification_report"
   ]
  },
  {
   "cell_type": "markdown",
   "metadata": {},
   "source": [
    "# Разбиение данных"
   ]
  },
  {
   "cell_type": "markdown",
   "metadata": {},
   "source": [
    "Считываем данные."
   ]
  },
  {
   "cell_type": "code",
   "execution_count": 4,
   "metadata": {},
   "outputs": [],
   "source": [
    "sales = pd.read_csv('Advertising_modified.csv')\n",
    "heartrates = pd.read_csv('heart_modified.csv')"
   ]
  },
  {
   "cell_type": "markdown",
   "metadata": {},
   "source": [
    "Далее выполним разбиение выборок на обучающающие и тестовые датасеты в соотношении (80/20)."
   ]
  },
  {
   "cell_type": "code",
   "execution_count": 33,
   "metadata": {},
   "outputs": [
    {
     "data": {
      "text/plain": [
       "((242, 13), (61, 13), (242,), (61,))"
      ]
     },
     "execution_count": 33,
     "metadata": {},
     "output_type": "execute_result"
    }
   ],
   "source": [
    "# features and goal for sales\n",
    "x1 = sales.iloc[:, :-1]\n",
    "y1 = sales['sales']\n",
    "# features and goal for heart\n",
    "x2 = heartrates.iloc[:,:-1]\n",
    "y2 = heartrates['target']\n",
    "\n",
    "#split the data\n",
    "xs_train, xs_test, ys_train, ys_test = train_test_split(x1, y1, random_state=25, test_size=0.2)\n",
    "# xs_train.shape, xs_test.shape, ys_train.shape, ys_test.shape\n",
    "xh_train, xh_test, yh_train, yh_test = train_test_split(x2, y2, random_state=27, test_size=0.2)\n",
    "# xh_train.shape, xh_test.shape, yh_train.shape, yh_test.shape"
   ]
  },
  {
   "cell_type": "markdown",
   "metadata": {},
   "source": [
    "# Классификация\n",
    "\n",
    "В этом задании мы должны рассмотреть стохастический градиентный спуск (SGDClassifier) со следующими функциями потерь:\n",
    "\n",
    "* hinge - модель SVM\n",
    "* squared_hinge - модель SVM\n",
    "* perceptron - модель перцептрона (подробнее - [wiki](https://en.wikipedia.org/wiki/Perceptron))\n",
    "\n",
    "## Обучение\n",
    "\n",
    "Для определения наилучшей архитектуры мы будем использовать GridSearchCV."
   ]
  },
  {
   "cell_type": "code",
   "execution_count": 29,
   "metadata": {},
   "outputs": [
    {
     "name": "stderr",
     "output_type": "stream",
     "text": [
      "/Users/nikitabratushka/Vs_code/MachineLearning/.venv/lib/python3.11/site-packages/sklearn/linear_model/_stochastic_gradient.py:738: ConvergenceWarning: Maximum number of iteration reached before convergence. Consider increasing max_iter to improve the fit.\n",
      "  warnings.warn(\n",
      "/Users/nikitabratushka/Vs_code/MachineLearning/.venv/lib/python3.11/site-packages/sklearn/linear_model/_stochastic_gradient.py:738: ConvergenceWarning: Maximum number of iteration reached before convergence. Consider increasing max_iter to improve the fit.\n",
      "  warnings.warn(\n",
      "/Users/nikitabratushka/Vs_code/MachineLearning/.venv/lib/python3.11/site-packages/sklearn/linear_model/_stochastic_gradient.py:738: ConvergenceWarning: Maximum number of iteration reached before convergence. Consider increasing max_iter to improve the fit.\n",
      "  warnings.warn(\n",
      "/Users/nikitabratushka/Vs_code/MachineLearning/.venv/lib/python3.11/site-packages/sklearn/linear_model/_stochastic_gradient.py:738: ConvergenceWarning: Maximum number of iteration reached before convergence. Consider increasing max_iter to improve the fit.\n",
      "  warnings.warn(\n",
      "/Users/nikitabratushka/Vs_code/MachineLearning/.venv/lib/python3.11/site-packages/sklearn/linear_model/_stochastic_gradient.py:738: ConvergenceWarning: Maximum number of iteration reached before convergence. Consider increasing max_iter to improve the fit.\n",
      "  warnings.warn(\n",
      "/Users/nikitabratushka/Vs_code/MachineLearning/.venv/lib/python3.11/site-packages/sklearn/linear_model/_stochastic_gradient.py:738: ConvergenceWarning: Maximum number of iteration reached before convergence. Consider increasing max_iter to improve the fit.\n",
      "  warnings.warn(\n",
      "/Users/nikitabratushka/Vs_code/MachineLearning/.venv/lib/python3.11/site-packages/sklearn/linear_model/_stochastic_gradient.py:738: ConvergenceWarning: Maximum number of iteration reached before convergence. Consider increasing max_iter to improve the fit.\n",
      "  warnings.warn(\n",
      "/Users/nikitabratushka/Vs_code/MachineLearning/.venv/lib/python3.11/site-packages/sklearn/linear_model/_stochastic_gradient.py:738: ConvergenceWarning: Maximum number of iteration reached before convergence. Consider increasing max_iter to improve the fit.\n",
      "  warnings.warn(\n",
      "/Users/nikitabratushka/Vs_code/MachineLearning/.venv/lib/python3.11/site-packages/sklearn/linear_model/_stochastic_gradient.py:738: ConvergenceWarning: Maximum number of iteration reached before convergence. Consider increasing max_iter to improve the fit.\n",
      "  warnings.warn(\n",
      "/Users/nikitabratushka/Vs_code/MachineLearning/.venv/lib/python3.11/site-packages/sklearn/linear_model/_stochastic_gradient.py:738: ConvergenceWarning: Maximum number of iteration reached before convergence. Consider increasing max_iter to improve the fit.\n",
      "  warnings.warn(\n",
      "/Users/nikitabratushka/Vs_code/MachineLearning/.venv/lib/python3.11/site-packages/sklearn/linear_model/_stochastic_gradient.py:738: ConvergenceWarning: Maximum number of iteration reached before convergence. Consider increasing max_iter to improve the fit.\n",
      "  warnings.warn(\n",
      "/Users/nikitabratushka/Vs_code/MachineLearning/.venv/lib/python3.11/site-packages/sklearn/linear_model/_stochastic_gradient.py:738: ConvergenceWarning: Maximum number of iteration reached before convergence. Consider increasing max_iter to improve the fit.\n",
      "  warnings.warn(\n",
      "/Users/nikitabratushka/Vs_code/MachineLearning/.venv/lib/python3.11/site-packages/sklearn/linear_model/_stochastic_gradient.py:738: ConvergenceWarning: Maximum number of iteration reached before convergence. Consider increasing max_iter to improve the fit.\n",
      "  warnings.warn(\n",
      "/Users/nikitabratushka/Vs_code/MachineLearning/.venv/lib/python3.11/site-packages/sklearn/linear_model/_stochastic_gradient.py:738: ConvergenceWarning: Maximum number of iteration reached before convergence. Consider increasing max_iter to improve the fit.\n",
      "  warnings.warn(\n",
      "/Users/nikitabratushka/Vs_code/MachineLearning/.venv/lib/python3.11/site-packages/sklearn/linear_model/_stochastic_gradient.py:738: ConvergenceWarning: Maximum number of iteration reached before convergence. Consider increasing max_iter to improve the fit.\n",
      "  warnings.warn(\n"
     ]
    },
    {
     "name": "stdout",
     "output_type": "stream",
     "text": [
      "Самая эффективная архитектура:\n",
      "{'alpha': 0.01, 'loss': 'hinge', 'max_iter': 1000, 'penalty': 'l2'}\n",
      "Accuracy: 0.8384353741496599\n"
     ]
    },
    {
     "name": "stderr",
     "output_type": "stream",
     "text": [
      "/Users/nikitabratushka/Vs_code/MachineLearning/.venv/lib/python3.11/site-packages/sklearn/linear_model/_stochastic_gradient.py:738: ConvergenceWarning: Maximum number of iteration reached before convergence. Consider increasing max_iter to improve the fit.\n",
      "  warnings.warn(\n",
      "/Users/nikitabratushka/Vs_code/MachineLearning/.venv/lib/python3.11/site-packages/sklearn/linear_model/_stochastic_gradient.py:738: ConvergenceWarning: Maximum number of iteration reached before convergence. Consider increasing max_iter to improve the fit.\n",
      "  warnings.warn(\n",
      "/Users/nikitabratushka/Vs_code/MachineLearning/.venv/lib/python3.11/site-packages/sklearn/metrics/_classification.py:1565: UndefinedMetricWarning: Precision is ill-defined and being set to 0.0 due to no predicted samples. Use `zero_division` parameter to control this behavior.\n",
      "  _warn_prf(average, modifier, f\"{metric.capitalize()} is\", len(result))\n"
     ]
    }
   ],
   "source": [
    "# параметры SGDClassifier, на основании будут рассматриваться различные архитектуры \n",
    "grid = {\n",
    "    'loss': ['hinge', 'squared_hinge', 'perceptron'],\n",
    "    'penalty': ['l1', 'l2', 'elasticnet'],\n",
    "    'alpha': [0.0001, 0.001, 0.01, 0.05],\n",
    "    'max_iter':[1000],\n",
    "}\n",
    "# Использоваем GridSearch для определения самой эффективной архитектуры\n",
    "models_classifier = GridSearchCV(\n",
    "    estimator=SGDClassifier(),\n",
    "    param_grid=grid,\n",
    "    n_jobs=-1,\n",
    "    scoring= ['accuracy', 'precision'],\n",
    "    refit = 'accuracy'\n",
    ")\n",
    "models_classifier.fit(xh_train, yh_train)\n",
    "best_classifier = models_classifier.best_estimator_\n",
    "# выведем наилучшие параметры, которые были получены\n",
    "print('Самая эффективная архитектура:')\n",
    "print(models_classifier.best_params_)\n",
    "print(f'Accuracy: {models_classifier.best_score_}')"
   ]
  },
  {
   "cell_type": "markdown",
   "metadata": {},
   "source": [
    "## Результаты"
   ]
  },
  {
   "cell_type": "markdown",
   "metadata": {},
   "source": [
    "Оценим результаты самой эффективной модели на тестовых данных"
   ]
  },
  {
   "cell_type": "code",
   "execution_count": 32,
   "metadata": {},
   "outputs": [
    {
     "name": "stdout",
     "output_type": "stream",
     "text": [
      "              precision    recall  f1-score   support\n",
      "\n",
      "           0       0.92      0.85      0.88        27\n",
      "           1       0.89      0.94      0.91        34\n",
      "\n",
      "    accuracy                           0.90        61\n",
      "   macro avg       0.90      0.90      0.90        61\n",
      "weighted avg       0.90      0.90      0.90        61\n",
      "\n"
     ]
    }
   ],
   "source": [
    "yh_pred = best_classifier.predict(xh_test)\n",
    "results_h = classification_report(yh_test, yh_pred)\n",
    "print(results_h)"
   ]
  },
  {
   "cell_type": "markdown",
   "metadata": {},
   "source": [
    "Можно отметить, мы получили высокую точность (accuracy) - 90%. Также стоит отметить, что у значение recall заметно выше для 1 - наличия заболевания. Точность при этом чуть ниже, нежели при определении 0 - отсутсвия заболевания. Однако лучше, с нашей точки зрения, иметь ложно положительные (с заболеванием) случае, чем ложно отрицательные в случае с сердечными заболеваниями. "
   ]
  },
  {
   "cell_type": "markdown",
   "metadata": {},
   "source": [
    "## Использование *minibatch_optimization*"
   ]
  },
  {
   "cell_type": "markdown",
   "metadata": {},
   "source": [
    "При использовании тохастического спуска трек обучения может быть запутанным и не всегда приводить к минимуму функции потерь (например, при недостаточном количестве эпох).\n",
    "\n",
    "Поэтому мы попробуем использовать минивыборки. Всего у нас 242 записи в обучающей выборке. Поэтому выберем размер минивыборки, равным `22`."
   ]
  },
  {
   "cell_type": "code",
   "execution_count": 46,
   "metadata": {},
   "outputs": [
    {
     "name": "stdout",
     "output_type": "stream",
     "text": [
      "              precision    recall  f1-score   support\n",
      "\n",
      "           0       0.95      0.70      0.81        27\n",
      "           1       0.80      0.97      0.88        34\n",
      "\n",
      "    accuracy                           0.85        61\n",
      "   macro avg       0.88      0.84      0.84        61\n",
      "weighted avg       0.87      0.85      0.85        61\n",
      "\n"
     ]
    },
    {
     "name": "stderr",
     "output_type": "stream",
     "text": [
      "/Users/nikitabratushka/Vs_code/MachineLearning/.venv/lib/python3.11/site-packages/numpy/_core/fromnumeric.py:57: FutureWarning: 'DataFrame.swapaxes' is deprecated and will be removed in a future version. Please use 'DataFrame.transpose' instead.\n",
      "  return bound(*args, **kwds)\n",
      "/Users/nikitabratushka/Vs_code/MachineLearning/.venv/lib/python3.11/site-packages/numpy/_core/fromnumeric.py:57: FutureWarning: 'Series.swapaxes' is deprecated and will be removed in a future version. Please use 'Series.transpose' instead.\n",
      "  return bound(*args, **kwds)\n"
     ]
    }
   ],
   "source": [
    "batch_size = 22\n",
    "n_batches = xh_train.shape[0]/batch_size # 11\n",
    "# выставляем лучшую архитектуру, полученную в предыдущем пункте\n",
    "partial_model = SGDClassifier(loss='hinge', alpha=0.01, penalty='l2')\n",
    "# разбиваем данные на минибатчи\n",
    "xh_batches = np.array_split(xh_train, n_batches)\n",
    "yh_batches = np.array_split(yh_train, n_batches)\n",
    "# обучаем\n",
    "for i, (x_batch, y_batch) in enumerate(zip(xh_batches, yh_batches)):\n",
    "    if i == 0:\n",
    "        partial_model.partial_fit(x_batch, y_batch, classes=[0, 1])\n",
    "    else:\n",
    "        partial_model.partial_fit(x_batch, y_batch)\n",
    "\n",
    "yh_part_pred = partial_model.predict(xh_test)\n",
    "results_part_h = classification_report(yh_test, yh_part_pred)\n",
    "print(results_part_h)"
   ]
  },
  {
   "cell_type": "markdown",
   "metadata": {},
   "source": [
    "# Регрессия"
   ]
  }
 ],
 "metadata": {
  "kernelspec": {
   "display_name": ".venv",
   "language": "python",
   "name": "python3"
  },
  "language_info": {
   "codemirror_mode": {
    "name": "ipython",
    "version": 3
   },
   "file_extension": ".py",
   "mimetype": "text/x-python",
   "name": "python",
   "nbconvert_exporter": "python",
   "pygments_lexer": "ipython3",
   "version": "3.11.0"
  }
 },
 "nbformat": 4,
 "nbformat_minor": 2
}
