{
 "cells": [
  {
   "cell_type": "markdown",
   "metadata": {},
   "source": [
    "# Лабораторная работа №2\n",
    "\n",
    "### Выполнили: \n",
    "* Иванов Александр Константинович, 368220 \n",
    "* Братушка Никита Игоревич, 367924\n",
    "* Проворов Николай Дмитриевич, 368690\n",
    "\n",
    "# Импорт библиотек"
   ]
  },
  {
   "cell_type": "code",
   "execution_count": 1,
   "metadata": {},
   "outputs": [],
   "source": [
    "import pandas as pd \n",
    "import numpy as np\n",
    "import matplotlib.pyplot as plt\n",
    "import seaborn as sns\n",
    "from sklearn.preprocessing import StandardScaler"
   ]
  },
  {
   "cell_type": "markdown",
   "metadata": {},
   "source": [
    "# Разбиение данных"
   ]
  },
  {
   "cell_type": "markdown",
   "metadata": {},
   "source": [
    "Считываем данные."
   ]
  },
  {
   "cell_type": "code",
   "execution_count": 11,
   "metadata": {},
   "outputs": [],
   "source": [
    "sales = pd.read_csv('Advertising_modified.csv')\n",
    "heartrates = pd.read_csv('heart_modified.csv')"
   ]
  },
  {
   "cell_type": "markdown",
   "metadata": {},
   "source": [
    "Далее выполним разбиение выборок на обучающающие и тестовые датасеты в соотношении (80/20)."
   ]
  },
  {
   "cell_type": "code",
   "execution_count": 33,
   "metadata": {},
   "outputs": [],
   "source": [
    "from sklearn.model_selection import train_test_split\n",
    "\n",
    "# features and goal for sales\n",
    "x1 = sales.iloc[:, :-1]\n",
    "y1 = sales['sales']\n",
    "# features and goal for heart\n",
    "x2 = heartrates.iloc[:,:-1]\n",
    "y2 = heartrates['target']\n",
    "\n",
    "#split the data\n",
    "xs_train, xs_test, ys_train, ys_test = train_test_split(x1, y1, random_state=25, test_size=0.2)\n",
    "# xs_train.shape, xs_test.shape, ys_train.shape, ys_test.shape\n",
    "xh_train, xh_test, yh_train, yh_test = train_test_split(x2, y2, random_state=27, test_size=0.2)\n",
    "# xh_train.shape, xh_test.shape, yh_train.shape, yh_test.shape"
   ]
  }
 ],
 "metadata": {
  "kernelspec": {
   "display_name": ".venv",
   "language": "python",
   "name": "python3"
  },
  "language_info": {
   "codemirror_mode": {
    "name": "ipython",
    "version": 3
   },
   "file_extension": ".py",
   "mimetype": "text/x-python",
   "name": "python",
   "nbconvert_exporter": "python",
   "pygments_lexer": "ipython3",
   "version": "3.12.6"
  }
 },
 "nbformat": 4,
 "nbformat_minor": 2
}
